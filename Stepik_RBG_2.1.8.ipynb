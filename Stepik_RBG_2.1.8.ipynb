{
 "cells": [
  {
   "cell_type": "markdown",
   "metadata": {},
   "source": [
    "# 2.1.8\n",
    "\n",
    "Определение рамки изображения\n",
    "\n",
    "Загрузите изображение из файла img.png. Изображение состоит из рамки сплошного цвета и внутренней части изображения. Цвет рамки можно узнать, посмотрев на левый верхний пиксель. Рамка может иметь разную ширину со всех четырех сторон. Определите размеры рамки и выведите эти размеры через пробел. Размеры рамки выводите в следующем порядке: левый, верхний, правый, нижний.\n",
    "\n",
    "В примере входа указана ссылка на изображение. Это сделано для вашего удобства. Вы можете скачать этот файл, сохранить вход как img.png и протестировать решение на своем компьютере.\n",
    "\n",
    "Для сравнения двух изображений можно воспользоваться функцией numpy.array_equal.\n",
    "\n",
    "Sample Input:\n",
    "https://stepik.org/media/attachments/lesson/58180/tiger-border.png\n",
    "\n",
    "Sample Output:\n",
    "1 39 25 7\n",
    "\n",
    "https://stepik.org/lesson/58180/step/8?unit=35865"
   ]
  },
  {
   "cell_type": "code",
   "execution_count": null,
   "metadata": {
    "collapsed": true
   },
   "outputs": [],
   "source": [
    "from skimage.io import imread\n",
    "img = imread('img.png')\n",
    "r = round(img.shape[0]/2)\n",
    "c = round(img.shape[1]/2)\n",
    "border_color = img[0, 0]\n",
    "b1, b2, b3, b4 = 0, 0, 0, 0\n",
    "\n",
    "for i in range(0, c, 1):\n",
    "    if all(img[r, i] == border_color):\n",
    "        b1+= 1\n",
    "        \n",
    "for i in range(0, r, 1):\n",
    "    if all(img[i, c] == border_color):\n",
    "        b2+= 1\n",
    "        \n",
    "for i in range(img.shape[1]-1, c, -1):\n",
    "    if all(img[r, i] == border_color):\n",
    "        b3+= 1\n",
    "        \n",
    "for i in range(img.shape[0]-1, r, -1):\n",
    "    if all(img[i, c] == border_color):\n",
    "        b4+= 1        \n",
    "\n",
    "print(str(b1) + ' ' + str(b2) + ' ' + str(b3) + ' ' + str(b4))"
   ]
  }
 ],
 "metadata": {
  "anaconda-cloud": {},
  "kernelspec": {
   "display_name": "Python [default]",
   "language": "python",
   "name": "python3"
  },
  "language_info": {
   "codemirror_mode": {
    "name": "ipython",
    "version": 3
   },
   "file_extension": ".py",
   "mimetype": "text/x-python",
   "name": "python",
   "nbconvert_exporter": "python",
   "pygments_lexer": "ipython3",
   "version": "3.5.2"
  }
 },
 "nbformat": 4,
 "nbformat_minor": 1
}
