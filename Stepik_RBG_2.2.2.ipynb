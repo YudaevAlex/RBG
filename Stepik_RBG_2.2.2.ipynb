{
 "cells": [
  {
   "cell_type": "markdown",
   "metadata": {},
   "source": [
    "# 2.2.2\n",
    "Вычисление негатива изображения\n",
    "\n",
    "Прочитайте изображение из файла img.png. У этого изображения нечетное количество строк и столбцов. Вычислите негатив изображения и сохраните его в файл out_img.png.\n",
    "\n",
    "В примере входа и выхода указаны ссылки на файлы. Это сделано для вашего удобства. Вы можете скачать эти файлы, сохранить вход как img.png и протестировать решение на своем компьютере, сравнив с выходным изображением.\n",
    "\n",
    "Для сравнения двух изображений можно воспользоваться функцией numpy.array_equal.\n",
    "\n",
    "\n",
    "Sample Input:\n",
    "https://stepik.org/media/attachments/lesson/58181/tiger-color.png\n",
    "\n",
    "Sample Output:\n",
    "https://stepik.org/media/attachments/lesson/58181/tiger-negative.png\n",
    "\n",
    "https://stepik.org/lesson/58181/step/2?unit=35867"
   ]
  },
  {
   "cell_type": "code",
   "execution_count": null,
   "metadata": {
    "collapsed": true
   },
   "outputs": [],
   "source": [
    "from skimage.io import imread, imsave\n",
    "img = imread('img.png')\n",
    "imsave('out_img.png', img.max() - img)"
   ]
  }
 ],
 "metadata": {
  "kernelspec": {
   "display_name": "Python [default]",
   "language": "python",
   "name": "python3"
  },
  "language_info": {
   "codemirror_mode": {
    "name": "ipython",
    "version": 3
   },
   "file_extension": ".py",
   "mimetype": "text/x-python",
   "name": "python",
   "nbconvert_exporter": "python",
   "pygments_lexer": "ipython3",
   "version": "3.5.2"
  }
 },
 "nbformat": 4,
 "nbformat_minor": 1
}
