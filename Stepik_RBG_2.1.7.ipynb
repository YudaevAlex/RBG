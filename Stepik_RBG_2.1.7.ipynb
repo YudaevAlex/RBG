{
 "cells": [
  {
   "cell_type": "markdown",
   "metadata": {},
   "source": [
    "# 2.1.7\n",
    "Изменение цвета прямоугольника\n",
    "\n",
    "Загрузите изображение из файла img.png. Оно имеет нечетное количество строк и столбцов. В центре этого изображения находится прямоугольник размером 7 строк и 15 столбцов. Поменяйте его цвет на розовый rgb(255, 192, 203) и сохраните в файл out_img.png.\n",
    "\n",
    "В примере входа и выхода указаны ссылки на файлы. Это сделано для вашего удобства. Вы можете скачать эти файлы, сохранить вход как img.png и протестировать решение на своем компьютере, сравнив с выходным изображением.\n",
    "\n",
    "Для сравнения двух изображений можно воспользоваться функцией numpy.array_equal.\n",
    "\n",
    "Sample Input:\n",
    "https://stepik.org/media/attachments/lesson/58180/tiger-gray.png\n",
    "\n",
    "Sample Output:\n",
    "https://stepik.org/media/attachments/lesson/58180/tiger-pink.png\n",
    "\n",
    "https://stepik.org/lesson/58180/step/7?unit=35865"
   ]
  },
  {
   "cell_type": "code",
   "execution_count": null,
   "metadata": {
    "collapsed": true
   },
   "outputs": [],
   "source": [
    "from skimage.io import imread, imsave\n",
    "img = imread('img.png')\n",
    "rw = img.shape[0] / 2\n",
    "cl = img.shape[1] / 2\n",
    "img[rw - 3 : rw + 4, cl - 7 : cl + 8] = [255,192,203]\n",
    "imsave('out_img.png', img)"
   ]
  }
 ],
 "metadata": {
  "anaconda-cloud": {},
  "kernelspec": {
   "display_name": "Python [default]",
   "language": "python",
   "name": "python3"
  },
  "language_info": {
   "codemirror_mode": {
    "name": "ipython",
    "version": 3
   },
   "file_extension": ".py",
   "mimetype": "text/x-python",
   "name": "python",
   "nbconvert_exporter": "python",
   "pygments_lexer": "ipython3",
   "version": "3.5.2"
  }
 },
 "nbformat": 4,
 "nbformat_minor": 1
}
