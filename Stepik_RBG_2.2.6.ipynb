{
 "cells": [
  {
   "cell_type": "markdown",
   "metadata": {},
   "source": [
    "# 2.2.6\n",
    "Подсчет яркости изображения\n",
    "\n",
    "Загрузите цветное изображение из файла img.png. Подсчитайте яркость этого изображения и сохраните в файл out_img.png. Результирующее изображение должно быть одноканальным. Для подсчета яркости используйте формулу Y=0.2126⋅R+0.7152⋅G+0.0722⋅BY=0.2126⋅R+0.7152⋅G+0.0722⋅B, не забудьте сначала перевести изображение в вещественные числа (функция img_as_float), а затем в целые числа (функция img_as_ubyte).\n",
    "\n",
    "В примере входа и выхода указаны ссылки на файлы. Это сделано для вашего удобства. Вы можете скачать эти файлы, сохранить вход как img.png и протестировать решение на своем компьютере, сравнив с выходным изображением.\n",
    "\n",
    "Для сравнения двух изображений можно воспользоваться функцией numpy.array_equal.\n",
    "\n",
    "Sample Input:\n",
    "https://stepik.org/media/attachments/lesson/58181/tiger-color.png\n",
    "\n",
    "Sample Output:\n",
    "https://stepik.org/media/attachments/lesson/58181/tiger-y.png\n",
    "\n",
    "https://stepik.org/lesson/58181/step/6"
   ]
  },
  {
   "cell_type": "code",
   "execution_count": null,
   "metadata": {
    "collapsed": true
   },
   "outputs": [],
   "source": [
    "from skimage.io import imread, imsave\n",
    "from skimage import img_as_float, img_as_ubyte\n",
    "from numpy import dstack\n",
    "img = imread('img.png')\n",
    "r = img_as_float(img[:, :, 0])*0.2126\n",
    "g = img_as_float(img[:, :, 1])*0.7152\n",
    "b = img_as_float(img[:, :, 2])*0.0722\n",
    "img_n = (r + g + b)\n",
    "imsave('out_img.png', img_as_ubyte(img_n))"
   ]
  }
 ],
 "metadata": {
  "anaconda-cloud": {},
  "kernelspec": {
   "display_name": "Python [default]",
   "language": "python",
   "name": "python3"
  },
  "language_info": {
   "codemirror_mode": {
    "name": "ipython",
    "version": 3
   },
   "file_extension": ".py",
   "mimetype": "text/x-python",
   "name": "python",
   "nbconvert_exporter": "python",
   "pygments_lexer": "ipython3",
   "version": "3.5.2"
  }
 },
 "nbformat": 4,
 "nbformat_minor": 1
}
