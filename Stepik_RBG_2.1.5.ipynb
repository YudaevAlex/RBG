{
 "cells": [
  {
   "cell_type": "markdown",
   "metadata": {},
   "source": [
    "# 2.1.5\n",
    "Изменение цвета пикселя изображения\n",
    "\n",
    "Прочитайте изображение из файла img.png. У этого изображения нечетное количество строк и столбцов. Поменяйте цвет центрального пикселя этого изображения на зеленый цвет rgb (102, 204, 102) и сохраните изображение в файл out_img.png.\n",
    "\n",
    "В примере входа и выхода указаны ссылки на файлы. Это сделано для вашего удобства. Вы можете скачать эти файлы, сохранить вход как img.png и протестировать решение на своем компьютере, сравнив с выходным изображением.\n",
    "\n",
    "Для сравнения двух изображений можно воспользоваться функцией numpy.array_equal.\n",
    "\n",
    "Sample Input:\n",
    "https://stepik.org/media/attachments/lesson/58180/tiger-color.png\n",
    "\n",
    "Sample Output:\n",
    "https://stepik.org/media/attachments/lesson/58180/tiger-color-green-pixel.png\n",
    "https://stepik.org/lesson/58180/step/5?unit=35865"
   ]
  },
  {
   "cell_type": "code",
   "execution_count": null,
   "metadata": {
    "collapsed": true
   },
   "outputs": [],
   "source": [
    "from skimage.io import imread, imsave\n",
    "img = imread('img.png')\n",
    "rw = img.shape[0] / 2\n",
    "cl = img.shape[1] / 2\n",
    "img[rw, cl] = [102, 204, 102]\n",
    "imsave('out_img.png', img)"
   ]
  }
 ],
 "metadata": {
  "kernelspec": {
   "display_name": "Python [default]",
   "language": "python",
   "name": "python3"
  },
  "language_info": {
   "codemirror_mode": {
    "name": "ipython",
    "version": 3
   },
   "file_extension": ".py",
   "mimetype": "text/x-python",
   "name": "python",
   "nbconvert_exporter": "python",
   "pygments_lexer": "ipython3",
   "version": "3.5.2"
  }
 },
 "nbformat": 4,
 "nbformat_minor": 1
}
